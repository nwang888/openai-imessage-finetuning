{
 "cells": [
  {
   "cell_type": "markdown",
   "metadata": {},
   "source": [
    "### Read chat.db into a csv"
   ]
  },
  {
   "cell_type": "code",
   "execution_count": 12,
   "metadata": {},
   "outputs": [],
   "source": [
    "import sqlite3\n",
    "import pandas as pd\n",
    "\n",
    "# Connect to the chat.db file\n",
    "conn = sqlite3.connect('../data/chat.db')\n",
    "\n",
    "# Execute a query to fetch the data\n",
    "cursor = conn.cursor()\n",
    "cursor.execute('''\n",
    "    SELECT chat.ROWID, message.date, handle.id, chat.room_name, message.text, message.is_from_me\n",
    "    FROM\n",
    "    (message INNER JOIN chat_message_join ON message.ROWID = chat_message_join.message_id\n",
    "                INNER JOIN chat ON chat.ROWID = chat_message_join.chat_id\n",
    "                    INNER JOIN chat_handle_join ON chat.ROWID = chat_handle_join.chat_id\n",
    "                        INNER JOIN handle ON handle.ROWID = chat_handle_join.handle_id)\n",
    "    ORDER BY chat.ROWID, message.date\n",
    "''')\n",
    "\n",
    "# Fetch all the rows\n",
    "rows = cursor.fetchall()\n",
    "\n",
    "# Create a DataFrame from the fetched rows\n",
    "df = pd.DataFrame(rows, columns=['ROWID', 'date', 'handle_id', 'room_name', 'text', 'is_from_me'])\n",
    "\n",
    "df_with_room_name = df[df['room_name'].notna()]\n",
    "df_without_room_name = df[df['room_name'].isna()]\n",
    "\n",
    "df_grouped = df_with_room_name.groupby(['text', 'room_name', 'ROWID', 'date', 'is_from_me'], as_index=False).agg({'handle_id': ', '.join})\n",
    "\n",
    "df_final = pd.concat([df_grouped, df_without_room_name])\n",
    "\n",
    "# Sort the final DataFrame\n",
    "df_sorted = df_final.sort_values(['ROWID', 'date'])\n",
    "\n",
    "# Save the DataFrame as a CSV file\n",
    "df_sorted.to_csv('../data/chat_grouped.csv', index=False)"
   ]
  },
  {
   "cell_type": "markdown",
   "metadata": {},
   "source": [
    "### Sort by each chat instance"
   ]
  },
  {
   "cell_type": "code",
   "execution_count": null,
   "metadata": {},
   "outputs": [],
   "source": []
  }
 ],
 "metadata": {
  "kernelspec": {
   "display_name": ".venv",
   "language": "python",
   "name": "python3"
  },
  "language_info": {
   "codemirror_mode": {
    "name": "ipython",
    "version": 3
   },
   "file_extension": ".py",
   "mimetype": "text/x-python",
   "name": "python",
   "nbconvert_exporter": "python",
   "pygments_lexer": "ipython3",
   "version": "3.10.5"
  }
 },
 "nbformat": 4,
 "nbformat_minor": 2
}
