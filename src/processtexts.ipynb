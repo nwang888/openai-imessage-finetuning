{
 "cells": [
  {
   "cell_type": "markdown",
   "metadata": {},
   "source": [
    "### Read chat.db into a csv"
   ]
  },
  {
   "cell_type": "code",
   "execution_count": 92,
   "metadata": {},
   "outputs": [],
   "source": [
    "import sqlite3\n",
    "import pandas as pd\n",
    "\n",
    "# Connect to the chat.db file\n",
    "conn = sqlite3.connect('../data/chat.db')\n",
    "\n",
    "# Execute a query to fetch the data\n",
    "cursor = conn.cursor()\n",
    "cursor.execute('''\n",
    "    SELECT chat.ROWID, message.date, handle.id, chat.room_name, message.text, message.is_from_me\n",
    "    FROM\n",
    "    (message INNER JOIN chat_message_join ON message.ROWID = chat_message_join.message_id\n",
    "                INNER JOIN chat ON chat.ROWID = chat_message_join.chat_id\n",
    "                    INNER JOIN chat_handle_join ON chat.ROWID = chat_handle_join.chat_id\n",
    "                        INNER JOIN handle ON handle.ROWID = chat_handle_join.handle_id)\n",
    "    ORDER BY chat.ROWID, message.date\n",
    "''')\n",
    "\n",
    "# Fetch all the rows\n",
    "rows = cursor.fetchall()\n",
    "\n",
    "# Create a DataFrame from the fetched rows\n",
    "df = pd.DataFrame(rows, columns=['ROWID', 'date', 'handle_id', 'room_name', 'text', 'is_from_me'])\n",
    "\n",
    "df_with_room_name = df[df['room_name'].notna()]\n",
    "df_without_room_name = df[df['room_name'].isna()]\n",
    "\n",
    "df_grouped = df_with_room_name.groupby(['text', 'room_name', 'ROWID', 'date', 'is_from_me'], as_index=False).agg({'handle_id': ', '.join})\n",
    "\n",
    "df_final = pd.concat([df_grouped, df_without_room_name])\n",
    "\n",
    "# Sort the final DataFrame\n",
    "df_sorted = df_final.sort_values(['ROWID', 'date'])\n",
    "\n",
    "# Save the DataFrame as a CSV file\n",
    "df_sorted.to_csv('../data/chat_grouped.csv', index=False)\n",
    "\n",
    "# Close the connection\n",
    "conn.close()\n",
    "\n",
    "# output looks like this: text, room_name, ROWID, date, is_from_me, handle_id"
   ]
  },
  {
   "cell_type": "markdown",
   "metadata": {},
   "source": [
    "### CSV -> JSON for OpenAI Formatting"
   ]
  },
  {
   "cell_type": "code",
   "execution_count": 121,
   "metadata": {},
   "outputs": [
    {
     "name": "stdout",
     "output_type": "stream",
     "text": [
      "1682899200000000000\n"
     ]
    }
   ],
   "source": [
    "import datetime\n",
    "\n",
    "# Create a datetime object for the start of 2021\n",
    "dt = datetime.datetime(2023, 5, 1, tzinfo=datetime.timezone.utc)\n",
    "\n",
    "# Convert to a timestamp in seconds\n",
    "timestamp_s = dt.timestamp()\n",
    "\n",
    "# Convert to nanoseconds\n",
    "timestamp_ns = int(timestamp_s * 1e9)\n",
    "\n",
    "print(timestamp_ns)"
   ]
  },
  {
   "cell_type": "code",
   "execution_count": 122,
   "metadata": {},
   "outputs": [],
   "source": [
    "# Convert the 'date' column to int64\n",
    "df['date'] = df['date'].astype('int64')\n",
    "# print(df['date'].max())\n",
    "# print(df['date'].min())\n",
    "\n",
    "# Filter the DataFrame to only include messages sent after the timestamp. apple starts from 2001 instead of 1970 so we have to subtract\n",
    "df = df[df['date'] > 1682899200000000000-978307200000000000]"
   ]
  },
  {
   "cell_type": "code",
   "execution_count": 123,
   "metadata": {},
   "outputs": [],
   "source": [
    "# Reset the index of the DataFrame\n",
    "df = df.reset_index(drop=True)\n",
    "\n",
    "# Get the index of the filtered dataframe\n",
    "index = df[df['is_from_me'] == 1].index\n",
    "\n",
    "# Get the index of all messages right before the indices where 'is_from_me' is 1\n",
    "preceding_index = index - 1\n",
    "\n",
    "# Handle the case where index is 0\n",
    "preceding_index = [i if i >= 0 else 0 for i in preceding_index]\n",
    "\n",
    "# Get the rows corresponding to 'index'\n",
    "df_index = df.loc[index]\n",
    "\n",
    "# Get the rows corresponding to 'preceding_index'\n",
    "df_preceding_index = df.loc[preceding_index]\n",
    "\n",
    "# Concatenate the two DataFrames\n",
    "df_final = pd.concat([df_preceding_index, df_index])\n",
    "\n",
    "# Save the final DataFrame as a CSV file\n",
    "df_final.to_csv('../data/chat_ready.csv', index=False)"
   ]
  },
  {
   "cell_type": "code",
   "execution_count": 124,
   "metadata": {},
   "outputs": [],
   "source": [
    "from dotenv import load_dotenv\n",
    "import os\n",
    "\n",
    "# Load the .env file\n",
    "load_dotenv()\n",
    "\n",
    "# Get the SYS_PROMPT from the environment variables\n",
    "sys_prompt = os.getenv('SYS_PROMPT')"
   ]
  },
  {
   "cell_type": "code",
   "execution_count": 125,
   "metadata": {},
   "outputs": [],
   "source": [
    "import json\n",
    "\n",
    "# Initialize an empty list to store the conversations\n",
    "conversations = []\n",
    "\n",
    "# Iterate over the DataFrame\n",
    "for i in range(0, len(df_final), 2):\n",
    "    # Initialize an empty list to store the messages for this conversation\n",
    "    conversation = []\n",
    "\n",
    "    # Get the two messages\n",
    "    message_1 = df_final.iloc[i]\n",
    "    message_2 = df_final.iloc[i+1]\n",
    "\n",
    "    # Skip this pair if either message is None (tbh idk why this happens)\n",
    "    if message_1['text'] is not None and message_2['text'] is not None:\n",
    "        conversation.append({\"role\": \"system\", \"content\": sys_prompt})\n",
    "        conversation.append({\"role\": \"user\", \"content\": message_1['text']})\n",
    "        conversation.append({\"role\": \"assistant\", \"content\": message_2['text']})\n",
    "\n",
    "        # Add the conversation to the conversations\n",
    "        conversations.append({\"messages\": conversation})\n",
    "\n",
    "# Convert the conversations to JSONL\n",
    "with open('../data/conversations.jsonl', 'w') as f:\n",
    "    for conversation in conversations:\n",
    "        f.write(json.dumps(conversation) + '\\n')"
   ]
  },
  {
   "cell_type": "markdown",
   "metadata": {},
   "source": [
    "### Validate Formatting (If this doesn't validate, the OpenAI call will NOT work)\n",
    "\n",
    "https://cookbook.openai.com/examples/chat_finetuning_data_prep"
   ]
  },
  {
   "cell_type": "code",
   "execution_count": 126,
   "metadata": {},
   "outputs": [],
   "source": [
    "import json\n",
    "import tiktoken # for token counting\n",
    "import numpy as np\n",
    "from collections import defaultdict"
   ]
  },
  {
   "cell_type": "code",
   "execution_count": 127,
   "metadata": {},
   "outputs": [
    {
     "name": "stdout",
     "output_type": "stream",
     "text": [
      "Num examples: 52787\n",
      "First example:\n",
      "{'role': 'system', 'content': \"You are N, a 20 year old college student at Duke University. Respond to these texts in the diction and phrasing of a college student (casual). Be nice and concise using texting language. I usually text like this: if someone says 'hey', i'll say 'what's up'\"}\n",
      "{'role': 'user', 'content': 'If you don’t get upgraded to first class on your flight home, it’s only $45 to check a second luggage in.\\xa0\\xa0So you can still ship your golf bag home.'}\n",
      "{'role': 'assistant', 'content': 'ok'}\n"
     ]
    }
   ],
   "source": [
    "data_path = \"../data/conversations.jsonl\"\n",
    "\n",
    "# Load the dataset\n",
    "with open(data_path, 'r', encoding='utf-8') as f:\n",
    "    dataset = [json.loads(line) for line in f]\n",
    "\n",
    "# Initial dataset stats\n",
    "print(\"Num examples:\", len(dataset))\n",
    "print(\"First example:\")\n",
    "for message in dataset[0][\"messages\"]:\n",
    "    print(message)"
   ]
  },
  {
   "cell_type": "code",
   "execution_count": 128,
   "metadata": {},
   "outputs": [
    {
     "name": "stdout",
     "output_type": "stream",
     "text": [
      "No errors found\n"
     ]
    }
   ],
   "source": [
    "# Format error checks\n",
    "format_errors = defaultdict(int)\n",
    "\n",
    "for ex in dataset:\n",
    "    if not isinstance(ex, dict):\n",
    "        format_errors[\"data_type\"] += 1\n",
    "        continue\n",
    "        \n",
    "    messages = ex.get(\"messages\", None)\n",
    "    if not messages:\n",
    "        format_errors[\"missing_messages_list\"] += 1\n",
    "        continue\n",
    "        \n",
    "    for message in messages:\n",
    "        if \"role\" not in message or \"content\" not in message:\n",
    "            format_errors[\"message_missing_key\"] += 1\n",
    "        \n",
    "        if any(k not in (\"role\", \"content\", \"name\", \"function_call\", \"weight\") for k in message):\n",
    "            format_errors[\"message_unrecognized_key\"] += 1\n",
    "        \n",
    "        if message.get(\"role\", None) not in (\"system\", \"user\", \"assistant\", \"function\"):\n",
    "            format_errors[\"unrecognized_role\"] += 1\n",
    "            \n",
    "        content = message.get(\"content\", None)\n",
    "        function_call = message.get(\"function_call\", None)\n",
    "        \n",
    "        if (not content and not function_call) or not isinstance(content, str):\n",
    "            format_errors[\"missing_content\"] += 1\n",
    "    \n",
    "    if not any(message.get(\"role\", None) == \"assistant\" for message in messages):\n",
    "        format_errors[\"example_missing_assistant_message\"] += 1\n",
    "\n",
    "if format_errors:\n",
    "    print(\"Found errors:\")\n",
    "    for k, v in format_errors.items():\n",
    "        print(f\"{k}: {v}\")\n",
    "else:\n",
    "    print(\"No errors found\")"
   ]
  },
  {
   "cell_type": "code",
   "execution_count": 129,
   "metadata": {},
   "outputs": [],
   "source": [
    "encoding = tiktoken.get_encoding(\"cl100k_base\")\n",
    "\n",
    "# not exact!\n",
    "# simplified from https://github.com/openai/openai-cookbook/blob/main/examples/How_to_count_tokens_with_tiktoken.ipynb\n",
    "def num_tokens_from_messages(messages, tokens_per_message=3, tokens_per_name=1):\n",
    "    num_tokens = 0\n",
    "    for message in messages:\n",
    "        num_tokens += tokens_per_message\n",
    "        for key, value in message.items():\n",
    "            num_tokens += len(encoding.encode(value))\n",
    "            if key == \"name\":\n",
    "                num_tokens += tokens_per_name\n",
    "    num_tokens += 3\n",
    "    return num_tokens\n",
    "\n",
    "def num_assistant_tokens_from_messages(messages):\n",
    "    num_tokens = 0\n",
    "    for message in messages:\n",
    "        if message[\"role\"] == \"assistant\":\n",
    "            num_tokens += len(encoding.encode(message[\"content\"]))\n",
    "    return num_tokens\n",
    "\n",
    "def print_distribution(values, name):\n",
    "    print(f\"\\n#### Distribution of {name}:\")\n",
    "    print(f\"min / max: {min(values)}, {max(values)}\")\n",
    "    print(f\"mean / median: {np.mean(values)}, {np.median(values)}\")\n",
    "    print(f\"p5 / p95: {np.quantile(values, 0.1)}, {np.quantile(values, 0.9)}\")"
   ]
  },
  {
   "cell_type": "code",
   "execution_count": 130,
   "metadata": {},
   "outputs": [
    {
     "name": "stdout",
     "output_type": "stream",
     "text": [
      "Num examples missing system message: 0\n",
      "Num examples missing user message: 0\n",
      "\n",
      "#### Distribution of num_messages_per_example:\n",
      "min / max: 3, 3\n",
      "mean / median: 3.0, 3.0\n",
      "p5 / p95: 3.0, 3.0\n",
      "\n",
      "#### Distribution of num_total_tokens_per_example:\n",
      "min / max: 79, 2182\n",
      "mean / median: 96.46600488756701, 91.0\n",
      "p5 / p95: 83.0, 111.0\n",
      "\n",
      "#### Distribution of num_assistant_tokens_per_example:\n",
      "min / max: 1, 778\n",
      "mean / median: 9.688161858033228, 7.0\n",
      "p5 / p95: 2.0, 18.0\n",
      "\n",
      "0 examples may be over the 4096 token limit, they will be truncated during fine-tuning\n"
     ]
    }
   ],
   "source": [
    "# Warnings and tokens counts\n",
    "n_missing_system = 0\n",
    "n_missing_user = 0\n",
    "n_messages = []\n",
    "convo_lens = []\n",
    "assistant_message_lens = []\n",
    "\n",
    "for ex in dataset:\n",
    "    messages = ex[\"messages\"]\n",
    "    if not any(message[\"role\"] == \"system\" for message in messages):\n",
    "        n_missing_system += 1\n",
    "    if not any(message[\"role\"] == \"user\" for message in messages):\n",
    "        n_missing_user += 1\n",
    "    n_messages.append(len(messages))\n",
    "    convo_lens.append(num_tokens_from_messages(messages))\n",
    "    assistant_message_lens.append(num_assistant_tokens_from_messages(messages))\n",
    "    \n",
    "print(\"Num examples missing system message:\", n_missing_system)\n",
    "print(\"Num examples missing user message:\", n_missing_user)\n",
    "print_distribution(n_messages, \"num_messages_per_example\")\n",
    "print_distribution(convo_lens, \"num_total_tokens_per_example\")\n",
    "print_distribution(assistant_message_lens, \"num_assistant_tokens_per_example\")\n",
    "n_too_long = sum(l > 4096 for l in convo_lens)\n",
    "print(f\"\\n{n_too_long} examples may be over the 4096 token limit, they will be truncated during fine-tuning\")"
   ]
  },
  {
   "cell_type": "code",
   "execution_count": 131,
   "metadata": {},
   "outputs": [
    {
     "name": "stdout",
     "output_type": "stream",
     "text": [
      "Dataset has ~5092151 tokens that will be charged for during training\n",
      "By default, you'll train for 1 epochs on this dataset\n",
      "By default, you'll be charged for ~5092151 tokens\n"
     ]
    }
   ],
   "source": [
    "# Pricing and default n_epochs estimate\n",
    "MAX_TOKENS_PER_EXAMPLE = 4096\n",
    "\n",
    "TARGET_EPOCHS = 3\n",
    "MIN_TARGET_EXAMPLES = 100\n",
    "MAX_TARGET_EXAMPLES = 25000\n",
    "MIN_DEFAULT_EPOCHS = 1\n",
    "MAX_DEFAULT_EPOCHS = 25\n",
    "\n",
    "n_epochs = TARGET_EPOCHS\n",
    "n_train_examples = len(dataset)\n",
    "if n_train_examples * TARGET_EPOCHS < MIN_TARGET_EXAMPLES:\n",
    "    n_epochs = min(MAX_DEFAULT_EPOCHS, MIN_TARGET_EXAMPLES // n_train_examples)\n",
    "elif n_train_examples * TARGET_EPOCHS > MAX_TARGET_EXAMPLES:\n",
    "    n_epochs = max(MIN_DEFAULT_EPOCHS, MAX_TARGET_EXAMPLES // n_train_examples)\n",
    "\n",
    "n_billing_tokens_in_dataset = sum(min(MAX_TOKENS_PER_EXAMPLE, length) for length in convo_lens)\n",
    "print(f\"Dataset has ~{n_billing_tokens_in_dataset} tokens that will be charged for during training\")\n",
    "print(f\"By default, you'll train for {n_epochs} epochs on this dataset\")\n",
    "print(f\"By default, you'll be charged for ~{n_epochs * n_billing_tokens_in_dataset} tokens\")"
   ]
  },
  {
   "cell_type": "markdown",
   "metadata": {},
   "source": [
    "### Send to OpenAI for finetuning!"
   ]
  },
  {
   "cell_type": "code",
   "execution_count": 140,
   "metadata": {},
   "outputs": [],
   "source": [
    "from dotenv import load_dotenv\n",
    "import os\n",
    "import openai\n",
    "\n",
    "# Load the .env file\n",
    "load_dotenv()\n",
    "\n",
    "import os\n",
    "\n",
    "# Get the OpenAI key\n",
    "openai.api_key = os.getenv('OPENAI_KEY')"
   ]
  },
  {
   "cell_type": "code",
   "execution_count": 144,
   "metadata": {},
   "outputs": [
    {
     "data": {
      "text/plain": [
       "FileObject(id='file-VCiHe0C5Yp5UmZKzMYILx3bT', bytes=24018188, created_at=1714574957, filename='conversations.jsonl', object='file', purpose='fine-tune', status='processed', status_details=None)"
      ]
     },
     "execution_count": 144,
     "metadata": {},
     "output_type": "execute_result"
    }
   ],
   "source": [
    "from openai import OpenAI\n",
    "client = OpenAI()\n",
    "\n",
    "client.files.create(\n",
    "  file=open(\"../data/conversations.jsonl\", \"rb\"),\n",
    "  purpose=\"fine-tune\"\n",
    ")"
   ]
  },
  {
   "cell_type": "code",
   "execution_count": 145,
   "metadata": {},
   "outputs": [
    {
     "data": {
      "text/plain": [
       "FineTuningJob(id='ftjob-TGDhzMFuMmjOY2YdyHvsjw3c', created_at=1714574962, error=Error(code=None, message=None, param=None), fine_tuned_model=None, finished_at=None, hyperparameters=Hyperparameters(n_epochs='auto', batch_size='auto', learning_rate_multiplier='auto'), model='gpt-3.5-turbo-0125', object='fine_tuning.job', organization_id='org-cWqfKdW2JgeuqBfCv0QND0FU', result_files=[], seed=1835378914, status='validating_files', trained_tokens=None, training_file='file-VCiHe0C5Yp5UmZKzMYILx3bT', validation_file=None, estimated_finish=None, integrations=[], user_provided_suffix=None)"
      ]
     },
     "execution_count": 145,
     "metadata": {},
     "output_type": "execute_result"
    }
   ],
   "source": [
    "client.fine_tuning.jobs.create(\n",
    "  training_file=\"file-VCiHe0C5Yp5UmZKzMYILx3bT\", \n",
    "  model=\"gpt-3.5-turbo\"\n",
    ")"
   ]
  }
 ],
 "metadata": {
  "kernelspec": {
   "display_name": ".venv",
   "language": "python",
   "name": "python3"
  },
  "language_info": {
   "codemirror_mode": {
    "name": "ipython",
    "version": 3
   },
   "file_extension": ".py",
   "mimetype": "text/x-python",
   "name": "python",
   "nbconvert_exporter": "python",
   "pygments_lexer": "ipython3",
   "version": "3.10.5"
  }
 },
 "nbformat": 4,
 "nbformat_minor": 2
}
