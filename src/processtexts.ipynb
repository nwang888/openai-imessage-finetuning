{
 "cells": [
  {
   "cell_type": "markdown",
   "metadata": {},
   "source": [
    "### Read chat.db into a csv"
   ]
  },
  {
   "cell_type": "code",
   "execution_count": 12,
   "metadata": {},
   "outputs": [],
   "source": [
    "import sqlite3\n",
    "import pandas as pd\n",
    "\n",
    "# Connect to the chat.db file\n",
    "conn = sqlite3.connect('../data/chat.db')\n",
    "\n",
    "# Execute a query to fetch the data\n",
    "cursor = conn.cursor()\n",
    "cursor.execute('''\n",
    "    SELECT chat.ROWID, message.date, handle.id, chat.room_name, message.text, message.is_from_me\n",
    "    FROM\n",
    "    (message INNER JOIN chat_message_join ON message.ROWID = chat_message_join.message_id\n",
    "                INNER JOIN chat ON chat.ROWID = chat_message_join.chat_id\n",
    "                    INNER JOIN chat_handle_join ON chat.ROWID = chat_handle_join.chat_id\n",
    "                        INNER JOIN handle ON handle.ROWID = chat_handle_join.handle_id)\n",
    "    ORDER BY chat.ROWID, message.date\n",
    "''')\n",
    "\n",
    "# Fetch all the rows\n",
    "rows = cursor.fetchall()\n",
    "\n",
    "# Create a DataFrame from the fetched rows\n",
    "df = pd.DataFrame(rows, columns=['ROWID', 'date', 'handle_id', 'room_name', 'text', 'is_from_me'])\n",
    "\n",
    "df_with_room_name = df[df['room_name'].notna()]\n",
    "df_without_room_name = df[df['room_name'].isna()]\n",
    "\n",
    "df_grouped = df_with_room_name.groupby(['text', 'room_name', 'ROWID', 'date', 'is_from_me'], as_index=False).agg({'handle_id': ', '.join})\n",
    "\n",
    "df_final = pd.concat([df_grouped, df_without_room_name])\n",
    "\n",
    "# Sort the final DataFrame\n",
    "df_sorted = df_final.sort_values(['ROWID', 'date'])\n",
    "\n",
    "# Save the DataFrame as a CSV file\n",
    "df_sorted.to_csv('../data/chat_grouped.csv', index=False)\n",
    "\n",
    "# Close the connection\n",
    "conn.close()\n",
    "\n",
    "# output looks like this: text, room_name, ROWID, date, is_from_me, handle_id"
   ]
  },
  {
   "cell_type": "markdown",
   "metadata": {},
   "source": [
    "### CSV -> JSON for OpenAI Formatting"
   ]
  },
  {
   "cell_type": "code",
   "execution_count": 19,
   "metadata": {},
   "outputs": [],
   "source": [
    "# Get the index of the filtered dataframe\n",
    "index = df[df['is_from_me'] == 1].index\n",
    "\n",
    "# Get the index of all messages right before the indices where 'is_from_me' is 1\n",
    "preceding_index = index - 1\n",
    "\n",
    "# Handle the case where index is 0\n",
    "preceding_index = [i if i >= 0 else 0 for i in preceding_index]\n",
    "\n",
    "# Get the rows corresponding to 'index'\n",
    "df_index = df.loc[index]\n",
    "\n",
    "# Get the rows corresponding to 'preceding_index'\n",
    "df_preceding_index = df.loc[preceding_index]\n",
    "\n",
    "# Concatenate the two DataFrames\n",
    "df_final = pd.concat([df_preceding_index, df_index])\n",
    "\n",
    "# Save the final DataFrame as a CSV file\n",
    "df_final.to_csv('../data/chat_ready.csv', index=False)"
   ]
  },
  {
   "cell_type": "code",
   "execution_count": 26,
   "metadata": {},
   "outputs": [
    {
     "name": "stdout",
     "output_type": "stream",
     "text": [
      "You are N, a 20 year old college student at Duke University. Respond to these texts in the diction and phrasing of a college student (casual). Be nice and concise using texting language. I usually text like this: if someone says 'hey', i'll say 'what's up'\n"
     ]
    }
   ],
   "source": [
    "from dotenv import load_dotenv\n",
    "import os\n",
    "\n",
    "# Load the .env file\n",
    "load_dotenv()\n",
    "\n",
    "# Get the SYS_PROMPT from the environment variables\n",
    "sys_prompt = os.getenv('SYS_PROMPT')"
   ]
  },
  {
   "cell_type": "code",
   "execution_count": 28,
   "metadata": {},
   "outputs": [],
   "source": [
    "import json\n",
    "\n",
    "# Initialize an empty list to store the conversations\n",
    "conversations = []\n",
    "\n",
    "# Iterate over the DataFrame\n",
    "for i in range(0, len(df_final), 2):\n",
    "    # Initialize an empty list to store the messages for this conversation\n",
    "    conversation = []\n",
    "\n",
    "    # Get the two messages\n",
    "    message_1 = df_final.iloc[i]\n",
    "    message_2 = df_final.iloc[i+1]\n",
    "\n",
    "    # Add the messages to the conversation\n",
    "    conversation.append({\"role\": \"system\", \"content\": sys_prompt})\n",
    "    conversation.append({\"role\": \"user\", \"content\": message_1['text']})\n",
    "    conversation.append({\"role\": \"assistant\", \"content\": message_2['text']})\n",
    "\n",
    "    # Add the conversation to the conversations\n",
    "    conversations.append(conversation)\n",
    "\n",
    "# Convert the conversations to JSONL\n",
    "with open('../data/conversations.jsonl', 'w') as f:\n",
    "    for conversation in conversations:\n",
    "        f.write(json.dumps(conversation) + '\\n')"
   ]
  },
  {
   "cell_type": "markdown",
   "metadata": {},
   "source": [
    "### Send to OpenAI for finetuning!"
   ]
  },
  {
   "cell_type": "code",
   "execution_count": null,
   "metadata": {},
   "outputs": [],
   "source": [
    "from dotenv import load_dotenv\n",
    "import os\n",
    "\n",
    "# Load the .env file\n",
    "load_dotenv()\n",
    "\n",
    "import os\n",
    "\n",
    "# Get the OpenAI key\n",
    "openai_api_key = os.getenv('OPENAI_KEY')"
   ]
  },
  {
   "cell_type": "code",
   "execution_count": null,
   "metadata": {},
   "outputs": [],
   "source": [
    "from openai import OpenAI\n",
    "\n",
    "api = OpenAI(api_key=openai_api_key)\n",
    "response = api.createFineTuning(\n",
    "    model=\"text-davinci-003\",\n",
    "    dataset=\"your_dataset_id\",\n",
    "    stop={\"stop\": [\"\\n\", \"<|endoftext|>\"]},\n",
    "    max_tokens=2048,\n",
    "    n_examples=1000,\n",
    "    n_epochs=3,\n",
    "    n_batch=1\n",
    ")"
   ]
  }
 ],
 "metadata": {
  "kernelspec": {
   "display_name": ".venv",
   "language": "python",
   "name": "python3"
  },
  "language_info": {
   "codemirror_mode": {
    "name": "ipython",
    "version": 3
   },
   "file_extension": ".py",
   "mimetype": "text/x-python",
   "name": "python",
   "nbconvert_exporter": "python",
   "pygments_lexer": "ipython3",
   "version": "3.10.5"
  }
 },
 "nbformat": 4,
 "nbformat_minor": 2
}
