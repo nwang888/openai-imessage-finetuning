{
 "cells": [
  {
   "cell_type": "markdown",
   "metadata": {},
   "source": [
    "### Read chat.db into a csv"
   ]
  },
  {
   "cell_type": "code",
   "execution_count": null,
   "metadata": {},
   "outputs": [],
   "source": [
    "import sqlite3\n",
    "import pandas as pd\n",
    "\n",
    "# Connect to the chat.db file\n",
    "conn = sqlite3.connect('../data/chat.db')\n",
    "\n",
    "# Execute a query to fetch the data\n",
    "cursor = conn.cursor()\n",
    "cursor.execute('SELECT * FROM messages')\n",
    "\n",
    "# Fetch all the rows\n",
    "rows = cursor.fetchall()\n",
    "\n",
    "# Create a DataFrame from the fetched rows\n",
    "df = pd.DataFrame(rows)\n",
    "\n",
    "# Save the DataFrame as a CSV file\n",
    "df.to_csv('../data/chat.csv', index=False)\n"
   ]
  }
 ],
 "metadata": {
  "kernelspec": {
   "display_name": ".venv",
   "language": "python",
   "name": "python3"
  },
  "language_info": {
   "codemirror_mode": {
    "name": "ipython",
    "version": 3
   },
   "file_extension": ".py",
   "mimetype": "text/x-python",
   "name": "python",
   "nbconvert_exporter": "python",
   "pygments_lexer": "ipython3",
   "version": "3.10.5"
  }
 },
 "nbformat": 4,
 "nbformat_minor": 2
}
